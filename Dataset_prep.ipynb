{
 "cells": [
  {
   "cell_type": "code",
   "execution_count": 1,
   "metadata": {},
   "outputs": [],
   "source": [
    "import cv2\n",
    "import os\n",
    "import glob\n",
    "import shutil\n",
    "from tqdm import tqdm"
   ]
  },
  {
   "cell_type": "code",
   "execution_count": 2,
   "metadata": {},
   "outputs": [
    {
     "name": "stderr",
     "output_type": "stream",
     "text": [
      "100%|██████████| 811/811 [00:29<00:00, 27.18it/s]\n"
     ]
    }
   ],
   "source": [
    "downsize = 2\n",
    "num_bilateral = 7\n",
    "files = 'CAT_03/*.jpg'\n",
    "for path in tqdm(glob.glob(files)):\n",
    "    name = path.split('/')[-1]\n",
    "    im = cv2.imread(path)\n",
    "    shutil.copyfile(path, \"cats/trainA/\"+name)\n",
    "    im_rgb = im\n",
    "    for i in range(downsize):\n",
    "        im = cv2.pyrDown(im)\n",
    "    for i in range(num_bilateral):\n",
    "        im = cv2.bilateralFilter(im, d=9, sigmaColor = 9, sigmaSpace = 7)\n",
    "    for i in range(downsize):\n",
    "        im = cv2.pyrUp(im)\n",
    "    gray = cv2.cvtColor(im_rgb, cv2.COLOR_RGB2GRAY)\n",
    "    blur = cv2.medianBlur(gray, 7)\n",
    "    edge = cv2.adaptiveThreshold(blur, 255, cv2.ADAPTIVE_THRESH_MEAN_C,cv2.THRESH_BINARY,blockSize = 9, C=2)\n",
    "    edge = cv2.cvtColor(edge, cv2.COLOR_GRAY2RGB)\n",
    "    im = im[:im_rgb.shape[0], :im_rgb.shape[1]]\n",
    "    cartoon = cv2.bitwise_and(im, edge)\n",
    "    cv2.imwrite(os.path.join(\"cats/trainB\" , name), cartoon)"
   ]
  },
  {
   "cell_type": "code",
   "execution_count": 3,
   "metadata": {},
   "outputs": [
    {
     "name": "stderr",
     "output_type": "stream",
     "text": [
      "100%|██████████| 1396/1396 [00:53<00:00, 25.89it/s]\n"
     ]
    }
   ],
   "source": [
    "downsize = 2\n",
    "num_bilateral = 7\n",
    "files = 'CAT_04/*.jpg'\n",
    "for path in tqdm(glob.glob(files)):\n",
    "    name = path.split('/')[-1]\n",
    "    im = cv2.imread(path)\n",
    "    shutil.copyfile(path, \"cats/testA/\"+name)\n",
    "    im_rgb = im\n",
    "    for i in range(downsize):\n",
    "        im = cv2.pyrDown(im)\n",
    "    for i in range(num_bilateral):\n",
    "        im = cv2.bilateralFilter(im, d=9, sigmaColor = 9, sigmaSpace = 7)\n",
    "    for i in range(downsize):\n",
    "        im = cv2.pyrUp(im)\n",
    "    gray = cv2.cvtColor(im_rgb, cv2.COLOR_RGB2GRAY)\n",
    "    blur = cv2.medianBlur(gray, 7)\n",
    "    edge = cv2.adaptiveThreshold(blur, 255, cv2.ADAPTIVE_THRESH_MEAN_C,cv2.THRESH_BINARY,blockSize = 9, C=2)\n",
    "    edge = cv2.cvtColor(edge, cv2.COLOR_GRAY2RGB)\n",
    "    im = im[:im_rgb.shape[0], :im_rgb.shape[1]]\n",
    "    cartoon = cv2.bitwise_and(im, edge)\n",
    "    cv2.imwrite(os.path.join(\"cats/testB\" , name), cartoon)"
   ]
  },
  {
   "cell_type": "code",
   "execution_count": 1,
   "metadata": {},
   "outputs": [],
   "source": [
    "import cv2\n",
    "import os\n",
    "\n",
    "'''This is the command to read in the GIF. You need Videocapture which makes a cv2 Video Object.\n",
    "Add your GIF file name in the parameter of this function.\n",
    "'''\n",
    "gif = cv2.VideoCapture('videos/1.gif')\n",
    "\n",
    "\n",
    "def convert_gif_to_frames(gif):\n",
    "\n",
    "    # Initialize the frame number and create empty frame list\n",
    "    frame_num = 0\n",
    "    frame_list = []\n",
    "    # Loop until there are frames left\n",
    "    while True:\n",
    "        try:\n",
    "            # Try to read a frame. Okay is a BOOL if there are frames or not\n",
    "            okay, frame = gif.read()\n",
    "            # Append to empty frame list\n",
    "            frame_list.append(frame)\n",
    "            # Break if there are no other frames to read\n",
    "            if not okay:\n",
    "                break\n",
    "            # Increment value of the frame number by 1\n",
    "            frame_num += 1\n",
    "        except KeyboardInterrupt:  # press ^C to quit\n",
    "            break\n",
    "\n",
    "    return frame_list\n",
    "l = convert_gif_to_frames(gif)"
   ]
  },
  {
   "cell_type": "code",
   "execution_count": 2,
   "metadata": {},
   "outputs": [
    {
     "name": "stdout",
     "output_type": "stream",
     "text": [
      "67\n"
     ]
    }
   ],
   "source": [
    "print(len(l))"
   ]
  },
  {
   "cell_type": "code",
   "execution_count": 55,
   "metadata": {},
   "outputs": [],
   "source": [
    "import numpy as np\n",
    "out = 'demo/'\n",
    "fourcc = cv2.VideoWriter_fourcc(*'MP4V')\n",
    "out1 = cv2.VideoWriter(out+'1.mp4', fourcc, 5, (256, 256))\n",
    "for fr in l:\n",
    "    if fr is not None:\n",
    "        fr = np.uint8(fr)\n",
    "        out1.write(fr)\n",
    "out1.release()"
   ]
  },
  {
   "cell_type": "code",
   "execution_count": 5,
   "metadata": {},
   "outputs": [],
   "source": [
    "import cv2\n",
    "import numpy as np\n",
    "import glob\n",
    " \n",
    "img_array = []\n",
    "for img in l:\n",
    "    img_array.append(img)\n",
    " \n",
    " \n",
    "out = cv2.VideoWriter('project.mp4',cv2.VideoWriter_fourcc(*'DIVX'), 15, (l[0].shape[1], l[0].shape[0]))\n",
    " \n",
    "for i in range(len(img_array)):\n",
    "    out.write(img_array[i])\n",
    "out.release()"
   ]
  },
  {
   "cell_type": "code",
   "execution_count": null,
   "metadata": {},
   "outputs": [],
   "source": []
  }
 ],
 "metadata": {
  "kernelspec": {
   "display_name": "Python 3",
   "language": "python",
   "name": "python3"
  },
  "language_info": {
   "codemirror_mode": {
    "name": "ipython",
    "version": 3
   },
   "file_extension": ".py",
   "mimetype": "text/x-python",
   "name": "python",
   "nbconvert_exporter": "python",
   "pygments_lexer": "ipython3",
   "version": "3.6.9"
  }
 },
 "nbformat": 4,
 "nbformat_minor": 4
}
